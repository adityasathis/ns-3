{
 "cells": [
  {
   "cell_type": "markdown",
   "metadata": {},
   "source": [
    "# Graphs\n",
    "This page contains all the graphs for your experimental analysis for NR-U homogeneous and heterogeneous coexistence with and without the decoupled CAPC management."
   ]
  },
  {
   "cell_type": "markdown",
   "metadata": {},
   "source": [
    "## CDF of QoS Throughput and Delay when we Change the UE-per-gNB count\n",
    "In these graphs we are trying to analyse the throughput and delay guarantee"
   ]
  },
  {
   "cell_type": "code",
   "execution_count": null,
   "metadata": {
    "vscode": {
     "languageId": "plaintext"
    }
   },
   "outputs": [],
   "source": [
    "import os\n",
    "import pandas as pd\n",
    "import numpy as np\n",
    "import matplotlib.pyplot as plt\n",
    "from scipy import stats\n",
    "\n",
    "# Step 1: Read and Filter Log Files\n",
    "def read_and_filter_logs(log_dir):\n",
    "    data = []\n",
    "    for filename in os.listdir(log_dir):\n",
    "        if filename.endswith(\".log\"):\n",
    "            with open(os.path.join(log_dir, filename), 'r') as file:\n",
    "                for line in file:\n",
    "                    if line.startswith(\"OUTPUT\"):\n",
    "                        parts = line.strip().split(',')\n",
    "                        if parts[1] == \"nru\" and float(parts[2]) > 0:\n",
    "                            data.append([filename] + parts)\n",
    "    return pd.DataFrame(data, columns=[\"filename\", \"type\", \"flow_type\", \"guaranteed_throughput\", \"guaranteed_delay\", \"achieved_throughput\", \"achieved_delay\"])\n",
    "\n",
    "log_dir = 'path_to_log_files'\n",
    "df = read_and_filter_logs(log_dir)\n",
    "\n",
    "# Step 2: Parse Data\n",
    "df['guaranteed_throughput'] = pd.to_numeric(df['guaranteed_throughput'])\n",
    "df['guaranteed_delay'] = pd.to_numeric(df['guaranteed_delay'])\n",
    "df['achieved_throughput'] = pd.to_numeric(df['achieved_throughput'])\n",
    "df['achieved_delay'] = pd.to_numeric(df['achieved_delay'])\n",
    "\n",
    "# Step 3: Aggregate Data\n",
    "def extract_identifiers(filename):\n",
    "    parts = filename.split('-')\n",
    "    num_uts = int(parts[2][3:])\n",
    "    capc = int(parts[6][4:])\n",
    "    run = int(parts[8][3:].replace(\".log\", \"\"))\n",
    "    return num_uts, capc, run\n",
    "\n",
    "df['num_uts'], df['capc'], df['run'] = zip(*df['filename'].apply(extract_identifiers))\n",
    "\n",
    "# Group by identifiers and calculate mean and 95% CI\n",
    "grouped = df.groupby(['num_uts', 'capc', 'flow_type', 'guaranteed_throughput', 'guaranteed_delay'])\n",
    "\n",
    "mean_df = grouped.mean().reset_index()\n",
    "std_df = grouped.std().reset_index()\n",
    "\n",
    "mean_df['achieved_throughput_upper'] = mean_df['achieved_throughput'] + 1.96 * (std_df['achieved_throughput'] / np.sqrt(5))\n",
    "mean_df['achieved_throughput_lower'] = mean_df['achieved_throughput'] - 1.96 * (std_df['achieved_throughput'] / np.sqrt(5))\n",
    "\n",
    "mean_df['achieved_delay_upper'] = mean_df['achieved_delay'] + 1.96 * (std_df['achieved_delay'] / np.sqrt(5))\n",
    "mean_df['achieved_delay_lower'] = mean_df['achieved_delay'] - 1.96 * (std_df['achieved_delay'] / np.sqrt(5))\n",
    "\n",
    "# Step 4: Calculate Ratios\n",
    "mean_df['throughput_ratio'] = mean_df['achieved_throughput'] / mean_df['guaranteed_throughput']\n",
    "mean_df['delay_ratio'] = mean_df['guaranteed_delay'] / mean_df['achieved_delay']\n",
    "\n",
    "# Step 5: Generate CDF Plots\n",
    "def plot_cdf(data, column, title, xlabel, filename):\n",
    "    sorted_data = np.sort(data)\n",
    "    yvals = np.arange(1, len(sorted_data)+1) / float(len(sorted_data))\n",
    "\n",
    "    plt.figure(figsize=(10, 6))\n",
    "    plt.plot(sorted_data, yvals, marker='.', linestyle='none')\n",
    "    plt.title(title)\n",
    "    plt.xlabel(xlabel)\n",
    "    plt.ylabel('CDF')\n",
    "    plt.grid(True)\n",
    "    plt.savefig(filename)\n",
    "    plt.show()\n",
    "\n",
    "# Plotting CDF for throughput guarantees\n",
    "plot_cdf(mean_df['throughput_ratio'], 'throughput_ratio', 'CDF of Throughput Guarantees', 'Throughput Ratio', 'throughput_cdf.png')\n",
    "\n",
    "# Plotting CDF for delay guarantees\n",
    "plot_cdf(mean_df['delay_ratio'], 'delay_ratio', 'CDF of Delay Guarantees', 'Delay Ratio', 'delay_cdf.png')\n"
   ]
  }
 ],
 "metadata": {
  "language_info": {
   "name": "python"
  }
 },
 "nbformat": 4,
 "nbformat_minor": 2
}
